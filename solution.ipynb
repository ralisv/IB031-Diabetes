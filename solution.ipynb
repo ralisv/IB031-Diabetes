{
 "cells": [
  {
   "cell_type": "markdown",
   "metadata": {},
   "source": [
    "# Diabetes Classification"
   ]
  },
  {
   "cell_type": "code",
   "execution_count": 2,
   "metadata": {},
   "outputs": [
    {
     "data": {
      "text/plain": [
       "<bound method NDFrame.head of        Unnamed: 0     ID  DIABETE3  _RFHYPE5  TOLDHI2  _CHOLCHK   _BMI5  \\\n",
       "0               0      0       3.0         2      1.0         1  4018.0   \n",
       "1               1      1       3.0         1      2.0         2  2509.0   \n",
       "2               2      2       3.0         1      1.0         1  2204.0   \n",
       "3               3      3       3.0         2      1.0         1  2819.0   \n",
       "4               3      3       3.0         2      1.0         1  2819.0   \n",
       "...           ...    ...       ...       ...      ...       ...     ...   \n",
       "99995       90864  90864       3.0         1      1.0         1  2658.0   \n",
       "99996       90865  90865       1.0         2      1.0         1  2637.0   \n",
       "99997       90865  90865       1.0         2      1.0         1  2637.0   \n",
       "99998       90866  90866       3.0         2      2.0         1  2246.0   \n",
       "99999       90867  90867       3.0         1      NaN         3  2744.0   \n",
       "\n",
       "       SMOKE100  CVDSTRK3  _MICHD  ...  HLTHPLN1  MEDCOST  GENHLTH  MENTHLTH  \\\n",
       "0           1.0         2     2.0  ...         1        2      5.0        18   \n",
       "1           1.0         2     2.0  ...         2        1      3.0        88   \n",
       "2           NaN         1     NaN  ...         1        2      4.0        88   \n",
       "3           2.0         2     2.0  ...         1        1      5.0        30   \n",
       "4           2.0         2     2.0  ...         1        1      5.0        30   \n",
       "...         ...       ...     ...  ...       ...      ...      ...       ...   \n",
       "99995       1.0         2     2.0  ...         1        2      2.0         7   \n",
       "99996       1.0         2     2.0  ...         1        2      4.0        88   \n",
       "99997       1.0         2     2.0  ...         1        2      4.0        88   \n",
       "99998       2.0         2     2.0  ...         1        2      2.0        88   \n",
       "99999       2.0         2     2.0  ...         1        2      3.0        88   \n",
       "\n",
       "       PHYSHLTH  DIFFWALK  SEX  _AGEG5YR  EDUCA  INCOME2  \n",
       "0            15       1.0    2         9      4      3.0  \n",
       "1            88       2.0    2         7      6      1.0  \n",
       "2            15       NaN    2        11      4     99.0  \n",
       "3            30       1.0    2         9      4      8.0  \n",
       "4            30       1.0    2         9      4      8.0  \n",
       "...         ...       ...  ...       ...    ...      ...  \n",
       "99995        88       2.0    1         8      6      8.0  \n",
       "99996        88       2.0    2        13      4      4.0  \n",
       "99997        88       2.0    2        13      4      4.0  \n",
       "99998        88       2.0    2         6      6      8.0  \n",
       "99999        77       2.0    1         6      4      5.0  \n",
       "\n",
       "[100000 rows x 24 columns]>"
      ]
     },
     "execution_count": 2,
     "metadata": {},
     "output_type": "execute_result"
    }
   ],
   "source": [
    "from pandas import read_csv\n",
    "\n",
    "\n",
    "df = read_csv('part1.csv')\n",
    "df.head()"
   ]
  },
  {
   "cell_type": "code",
   "execution_count": null,
   "metadata": {},
   "outputs": [],
   "source": []
  }
 ],
 "metadata": {
  "kernelspec": {
   "display_name": "Python 3",
   "language": "python",
   "name": "python3"
  },
  "language_info": {
   "codemirror_mode": {
    "name": "ipython",
    "version": 3
   },
   "file_extension": ".py",
   "mimetype": "text/x-python",
   "name": "python",
   "nbconvert_exporter": "python",
   "pygments_lexer": "ipython3",
   "version": "3.11.8"
  }
 },
 "nbformat": 4,
 "nbformat_minor": 2
}
