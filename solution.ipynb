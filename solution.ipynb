{
 "cells": [
  {
   "cell_type": "markdown",
   "metadata": {},
   "source": [
    "# Diabetes Classification"
   ]
  },
  {
   "cell_type": "code",
   "execution_count": 6,
   "metadata": {},
   "outputs": [
    {
     "name": "stdout",
     "output_type": "stream",
     "text": [
      "<class 'pandas.core.frame.DataFrame'>\n",
      "Index: 500000 entries, 0 to 99999\n",
      "Data columns (total 24 columns):\n",
      " #   Column      Non-Null Count   Dtype  \n",
      "---  ------      --------------   -----  \n",
      " 0   Unnamed: 0  500000 non-null  int64  \n",
      " 1   ID          500000 non-null  int64  \n",
      " 2   DIABETE3    499995 non-null  float64\n",
      " 3   _RFHYPE5    500000 non-null  int64  \n",
      " 4   TOLDHI2     433630 non-null  float64\n",
      " 5   _CHOLCHK    500000 non-null  int64  \n",
      " 6   _BMI5       457835 non-null  float64\n",
      " 7   SMOKE100    480420 non-null  float64\n",
      " 8   CVDSTRK3    500000 non-null  int64  \n",
      " 9   _MICHD      495475 non-null  float64\n",
      " 10  _TOTINDA    500000 non-null  int64  \n",
      " 11  _FRTLT1     500000 non-null  int64  \n",
      " 12  _VEGLT1     500000 non-null  int64  \n",
      " 13  _RFDRHV5    500000 non-null  int64  \n",
      " 14  HLTHPLN1    500000 non-null  int64  \n",
      " 15  MEDCOST     500000 non-null  int64  \n",
      " 16  GENHLTH     499995 non-null  float64\n",
      " 17  MENTHLTH    500000 non-null  int64  \n",
      " 18  PHYSHLTH    500000 non-null  int64  \n",
      " 19  DIFFWALK    483650 non-null  float64\n",
      " 20  SEX         500000 non-null  int64  \n",
      " 21  _AGEG5YR    500000 non-null  int64  \n",
      " 22  EDUCA       500000 non-null  int64  \n",
      " 23  INCOME2     495180 non-null  float64\n",
      "dtypes: float64(8), int64(16)\n",
      "memory usage: 95.4 MB\n"
     ]
    }
   ],
   "source": [
    "import pandas as pd\n",
    "import os.path\n",
    "\n",
    "\n",
    "def load_dataset(part_dir):\n",
    "    dataset_parts_df = [pd.read_csv(os.path.join(part_dir, f\"part{part_num}.csv\")) for part_num in range(1, 6)]\n",
    "    return pd.concat(dataset_parts_df)\n",
    "\n",
    "\n",
    "dataset = load_dataset(\"data\")\n",
    "dataset.info()"
   ]
  },
  {
   "cell_type": "code",
   "execution_count": null,
   "metadata": {},
   "outputs": [],
   "source": []
  }
 ],
 "metadata": {
  "kernelspec": {
   "display_name": "Python 3 (ipykernel)",
   "language": "python",
   "name": "python3"
  },
  "language_info": {
   "codemirror_mode": {
    "name": "ipython",
    "version": 3
   },
   "file_extension": ".py",
   "mimetype": "text/x-python",
   "name": "python",
   "nbconvert_exporter": "python",
   "pygments_lexer": "ipython3",
   "version": "3.11.7"
  }
 },
 "nbformat": 4,
 "nbformat_minor": 4
}
