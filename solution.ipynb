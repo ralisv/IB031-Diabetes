{
 "cells": [
  {
   "cell_type": "markdown",
   "metadata": {},
   "source": [
    "# Diabetes Classification\n",
    "\n",
    "## About dataset\n",
    "- The Behavioral Risk Factor Surveillance System (BRFSS) is a health-related telephone survey that collects data from U.S. residents on their health-related risk behaviors, chronic health conditions, and use of preventive services\n",
    "- The dataset has been established in 1984 with 15 states, it now collects data from all 50 states, D.C., and 3 U.S. territories\n",
    "- Over 400,000 adult interviews are completed each year, making it the largest continuous health survey system in the world\n",
    "- Factors assessed include tobacco use, healthcare coverage, HIV/AIDS knowledge/prevention, physical activity, and fruit/vegetable consumption\n",
    "- A record in the data corresponds to a single respondent (each from a single household)\n",
    "- The description of columns can be found in the linked PDF file"
   ]
  },
  {
   "cell_type": "markdown",
   "metadata": {},
   "source": [
    "#### Features description\n",
    "| Feature               | Description                                                                  |\n",
    "|-----------------------|------------------------------------------------------------------------------|\n",
    "| diabetes              | Subject was told they have diabetes                                          |\n",
    "| high_blood_pressure   | Subject has high blood pressure                                              |\n",
    "| high_cholesterol      | Subject has high cholesterol                                                 |\n",
    "| cholesterol_check     | Subject had cholesterol check within the last five years                     |\n",
    "| bmi                   | BMI of the subject                                                           |\n",
    "| smoked_100_cigarettes | Subject has smoked at least 100 cigarettes during their life                 |\n",
    "| stroke                | Subject experienced stroke during their life                                 |\n",
    "| coronary_disease      | Subject has/had coronary heart disease or myocardial infarction              |\n",
    "| exercise              | Subject does regular exercise or physical activity                           |\n",
    "| consumes_fruit        | Subject consumes fruits at least once a day                                  |\n",
    "| consumes_vegetables   | Subject consumes vegetables at least once a day                              |\n",
    "| heavy_alcohol_drinker | Heavy drinkers are defined as adult men having more than 14 drinks per week |\n",
    "| insurance             | Subject has some kind of health plan (insurance, prepaid plans, ...)         |\n",
    "| no_doctor_money       | Subject was unable to visit doctor in the past 12 months because of cost     |\n",
    "| health                | How good is the health of the subject (self rated)                           |\n",
    "| mental_health         | Number of days in the past month when subject's mental health was not good   |\n",
    "| physical_health       | Number of days in the past month when subject's physical health was not good |\n",
    "| climb_difficulty      | Subject has difficulties climbing stairs                                     |\n",
    "| sex                   | Sex of the subject                                                           |\n",
    "| age_category          | Age category of the subject                                                  |\n",
    "| educatation_level     | Highest level of education achieved by the subject                           |\n",
    "| income                | Income of subject's household                                                |"
   ]
  },
  {
   "cell_type": "markdown",
   "metadata": {},
   "source": [
    "Load the dataset. All 5 parts are concatenated"
   ]
  },
  {
   "cell_type": "code",
   "execution_count": 1,
   "metadata": {
    "scrolled": true
   },
   "outputs": [],
   "source": [
    "from core import load_dataset\n",
    "\n",
    "dataset = load_dataset(\"data\")"
   ]
  },
  {
   "cell_type": "markdown",
   "metadata": {},
   "source": [
    "Do basic preprocessing on columns and categorical values in order to make the dataset more humanly readable."
   ]
  },
  {
   "cell_type": "code",
   "execution_count": 2,
   "metadata": {},
   "outputs": [],
   "source": [
    "from core import process_columns\n",
    "\n",
    "process_columns(dataset)\n",
    "\n",
    "# 'Unnamed: 0' is a duplicate column of ID\n",
    "dataset.drop(\"Unnamed: 0\", axis=\"columns\", inplace=True)\n",
    "\n",
    "dataset.drop_duplicates(inplace=True)\n",
    "\n",
    "# ID is no longer needed after dropping duplicates\n",
    "dataset.drop(\"ID\", axis=\"columns\", inplace=True)\n"
   ]
  },
  {
   "cell_type": "markdown",
   "metadata": {},
   "source": [
    "Create a column transformer to handle categorical data for certain models."
   ]
  },
  {
   "cell_type": "code",
   "execution_count": 3,
   "metadata": {},
   "outputs": [],
   "source": [
    "import pandas as pd\n",
    "from sklearn.compose import ColumnTransformer\n",
    "from sklearn.preprocessing import OneHotEncoder\n",
    "\n",
    "# Step 1: Identify Categorical Columns\n",
    "# We select columns with dtype 'category' or 'object'\n",
    "categorical_cols = dataset.select_dtypes(\n",
    "    include=[\"category\", \"object\"]\n",
    ").columns.tolist()\n",
    "\n",
    "# Step 2: Create the ColumnTransformer\n",
    "# We use 'remainder='passthrough'' to keep the non-categorical columns unchanged\n",
    "column_transformer = ColumnTransformer(\n",
    "    transformers=[\n",
    "        (\n",
    "            \"OHE\",\n",
    "            OneHotEncoder(sparse_output=False, handle_unknown=\"ignore\"),\n",
    "            categorical_cols,\n",
    "        )\n",
    "    ],\n",
    "    remainder=\"passthrough\",\n",
    ")\n",
    "\n",
    "# Step 3: Fit and Transform the Data\n",
    "# The transformed data will be a NumPy array\n",
    "transformed_data = column_transformer.fit_transform(dataset)\n",
    "\n",
    "# Optional: Convert the transformed data back to a DataFrame\n",
    "# This step requires generating the new column names after transformation\n",
    "new_columns = column_transformer.get_feature_names_out()\n",
    "\n",
    "# Creating a new DataFrame with the transformed data and new column names\n",
    "one_hot_encoded_dataset = pd.DataFrame(transformed_data, columns=new_columns) # type: ignore"
   ]
  },
  {
   "cell_type": "markdown",
   "metadata": {},
   "source": [
    "Review our one hot encoded dataset."
   ]
  },
  {
   "cell_type": "code",
   "execution_count": null,
   "metadata": {},
   "outputs": [],
   "source": [
    "one_hot_encoded_dataset.info()"
   ]
  },
  {
   "cell_type": "markdown",
   "metadata": {},
   "source": [
    "Now we split the dataset into training and testing."
   ]
  },
  {
   "cell_type": "code",
   "execution_count": null,
   "metadata": {},
   "outputs": [],
   "source": [
    "from sklearn.model_selection import train_test_split\n",
    "\n",
    "diabetes_X, diabetes_y = one_hot_encoded_dataset.drop(columns=\"diabetes\"), one_hot_encoded_dataset.diabetes\n",
    "\n",
    "diabetes_train_X, diabetes_test_X, diabetes_train_y, diabetes_test_y = train_test_split(\n",
    "    diabetes_X, diabetes_y, test_size=0.2, random_state=42\n",
    ")\n"
   ]
  }
 ],
 "metadata": {
  "kernelspec": {
   "display_name": "Python 3",
   "language": "python",
   "name": "python3"
  },
  "language_info": {
   "codemirror_mode": {
    "name": "ipython",
    "version": 3
   },
   "file_extension": ".py",
   "mimetype": "text/x-python",
   "name": "python",
   "nbconvert_exporter": "python",
   "pygments_lexer": "ipython3",
   "version": "3.11.8"
  }
 },
 "nbformat": 4,
 "nbformat_minor": 4
}
