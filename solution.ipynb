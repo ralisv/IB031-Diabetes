{
 "cells": [
  {
   "cell_type": "markdown",
   "metadata": {},
   "source": [
    "# Diabetes Classification\n",
    "\n",
    "## About dataset\n",
    "- The Behavioral Risk Factor Surveillance System (BRFSS) is a health-related telephone survey that collects data from U.S. residents on their health-related risk behaviors, chronic health conditions, and use of preventive services\n",
    "- The dataset has been established in 1984 with 15 states, it now collects data from all 50 states, D.C., and 3 U.S. territories\n",
    "- Over 400,000 adult interviews are completed each year, making it the largest continuous health survey system in the world\n",
    "- Factors assessed include tobacco use, healthcare coverage, HIV/AIDS knowledge/prevention, physical activity, and fruit/vegetable consumption\n",
    "- A record in the data corresponds to a single respondent (each from a single household)\n",
    "- The description of columns can be found in the linked PDF file"
   ]
  },
  {
   "cell_type": "markdown",
   "metadata": {},
   "source": [
    "#### Features description\n",
    "| Feature               | Description                                                                  |\n",
    "|-----------------------|------------------------------------------------------------------------------|\n",
    "| diabetes              | Subject was told they have diabetes                                          |\n",
    "| high_blood_pressure   | Subject has high blood pressure                                              |\n",
    "| high_cholesterol      | Subject has high cholesterol                                                 |\n",
    "| cholesterol_check     | Subject had cholesterol check within the last five years                     |\n",
    "| bmi                   | BMI of the subject                                                           |\n",
    "| smoked_100_cigarettes | Subject has smoked at least 100 cigarettes during their life                 |\n",
    "| stroke                | Subject experienced stroke during their life                                 |\n",
    "| coronary_disease      | Subject has/had coronary heart disease or myocardial infarction              |\n",
    "| exercise              | Subject does regular exercise or physical activity                           |\n",
    "| consumes_fruit        | Subject consumes fruits at least once a day                                  |\n",
    "| consumes_vegetables   | Subject consumes vegetables at least once a day                              |\n",
    "| heavy_alcohol_drinker | Heavy drinkers are defined as adult men having more than 14 drinks per week |\n",
    "| insurance             | Subject has some kind of health plan (insurance, prepaid plans, ...)         |\n",
    "| no_doctor_money       | Subject was unable to visit doctor in the past 12 months because of cost     |\n",
    "| health                | How good is the health of the subject (self rated)                           |\n",
    "| mental_health         | Number of days in the past month when subject's mental health was not good   |\n",
    "| physical_health       | Number of days in the past month when subject's physical health was not good |\n",
    "| climb_difficulty      | Subject has difficulties climbing stairs                                     |\n",
    "| sex                   | Sex of the subject                                                           |\n",
    "| age_category          | Age category of the subject                                                  |\n",
    "| educatation_level     | Highest level of education achieved by the subject                           |\n",
    "| income                | Income of subject's household                                                |"
   ]
  },
  {
   "cell_type": "markdown",
   "metadata": {},
   "source": [
    "Load the dataset. All 5 parts are concatenated"
   ]
  },
  {
   "cell_type": "code",
   "execution_count": 2,
   "metadata": {
    "scrolled": true
   },
   "outputs": [],
   "source": [
    "from core import load_dataset\n",
    "\n",
    "dataset = load_dataset(\"data\")"
   ]
  },
  {
   "cell_type": "markdown",
   "metadata": {},
   "source": [
    "Do basic preprocessing on columns and categorical values in order to make the dataset more humanly readable."
   ]
  },
  {
   "cell_type": "code",
   "execution_count": 3,
   "metadata": {},
   "outputs": [],
   "source": [
    "from core import process_columns, remove_unusable_diabetes_categories\n",
    "\n",
    "process_columns(dataset)\n",
    "\n",
    "# 'Unnamed: 0' is a duplicate column of ID\n",
    "dataset.drop(\"Unnamed: 0\", axis=\"columns\", inplace=True)\n",
    "\n",
    "dataset.drop_duplicates(inplace=True)\n",
    "\n",
    "    # ID is no longer needed after dropping duplicates\n",
    "dataset.drop(\"ID\", axis=\"columns\", inplace=True)\n",
    "\n",
    "# Remove rows where target label is missing\n",
    "dataset = dataset[~dataset[\"diabetes\"].isna()]\n",
    "\n",
    "# Random forest model can actually handle classification into multiple categories, so we create a copy\n",
    "dataset_with_extended_diabetes_categories = dataset.copy()\n",
    "\n",
    "# Remove pre diabetes and diabetes in pregnancy categories\n",
    "dataset_without_extended_diabetes_categories = remove_unusable_diabetes_categories(dataset)"
   ]
  },
  {
   "cell_type": "markdown",
   "metadata": {},
   "source": [
    "Let's create a baseline model to have something to compare our more advanced models to."
   ]
  },
  {
   "cell_type": "code",
   "execution_count": 11,
   "metadata": {},
   "outputs": [
    {
     "name": "stdout",
     "output_type": "stream",
     "text": [
      "                                     precision    recall  f1-score   support\n",
      "\n",
      "                        Diabetes.NO       0.85      0.25      0.39     93202\n",
      "Diabetes.PRE_DIABETES_OR_BORDERLINE       0.02      0.26      0.03      1841\n",
      "                       Diabetes.YES       0.13      0.25      0.17     14262\n",
      " Diabetes.YES_ONLY_DURING_PREGNANCY       0.01      0.26      0.02       860\n",
      "\n",
      "                           accuracy                           0.25    110165\n",
      "                          macro avg       0.25      0.26      0.15    110165\n",
      "                       weighted avg       0.73      0.25      0.35    110165\n",
      "\n"
     ]
    }
   ],
   "source": [
    "\n",
    "\n",
    "from sklearn.dummy import DummyClassifier\n",
    "from sklearn.metrics import classification_report\n",
    "from sklearn.model_selection import train_test_split\n",
    "\n",
    "X, y = dataset.drop(\"diabetes\", axis=\"columns\"), dataset[\"diabetes\"]\n",
    "train_X, test_X, train_y, test_y = train_test_split(X, y, random_state=0)\n",
    "\n",
    "baseline = DummyClassifier(strategy=\"uniform\", random_state=0)\n",
    "baseline.fit(train_X, train_y)\n",
    "print(classification_report(test_y, baseline.predict(test_X), zero_division=0))\n"
   ]
  },
  {
   "cell_type": "markdown",
   "metadata": {},
   "source": [
    "Now we create the random forest model"
   ]
  },
  {
   "cell_type": "code",
   "execution_count": 3,
   "metadata": {},
   "outputs": [],
   "source": [
    "import matplotlib.pyplot as plt\n",
    "import pandas as pd\n",
    "from sklearn.calibration import LabelEncoder\n",
    "from sklearn.compose import ColumnTransformer, make_column_selector\n",
    "from sklearn.ensemble import RandomForestClassifier\n",
    "from sklearn.impute import SimpleImputer\n",
    "from sklearn.metrics import accuracy_score, classification_report, confusion_matrix\n",
    "from sklearn.model_selection import GridSearchCV, train_test_split\n",
    "from sklearn.pipeline import Pipeline\n",
    "from sklearn.preprocessing import OneHotEncoder, OrdinalEncoder, StandardScaler\n",
    "from sklearn.tree import plot_tree\n",
    "\n",
    "# Assuming dataset_with_extended_diabetes_categories is a pandas DataFrame\n",
    "dataset = dataset_with_extended_diabetes_categories\n",
    "\n",
    "# Splitting dataset into features and target\n",
    "X = dataset.drop(\"diabetes\", axis=1)\n",
    "y = dataset[\"diabetes\"]\n",
    "y = LabelEncoder().fit_transform(y)\n",
    "\n",
    "# Splitting dataset into training and testing sets\n",
    "X_train, X_test, y_train, y_test = train_test_split(\n",
    "    X, y, test_size=0.2, random_state=42\n",
    ")\n",
    "\n",
    "# Create preprocessing steps\n",
    "categorical_transformer = Pipeline(\n",
    "    steps=[\n",
    "        (\"imputer\", SimpleImputer(strategy=\"most_frequent\")),\n",
    "        (\"encoder\", OrdinalEncoder())\n",
    "    ]\n",
    ")\n",
    "\n",
    "numerical_transformer = Pipeline(\n",
    "    steps=[(\"imputer\", SimpleImputer(strategy=\"mean\")), (\"scaler\", StandardScaler())]\n",
    ")\n",
    "\n",
    "# Create the ColumnTransformer\n",
    "preprocessor = ColumnTransformer(\n",
    "    transformers=[\n",
    "        (\"cat\", categorical_transformer, make_column_selector(dtype_include=\"category\")),\n",
    "        (\"num\", numerical_transformer, make_column_selector(dtype_exclude=\"category\")),\n",
    "    ]\n",
    ")\n",
    "\n",
    "# Create the pipeline\n",
    "pipeline = Pipeline(\n",
    "    steps=[\n",
    "        (\"preprocessor\", preprocessor),\n",
    "        (\n",
    "            \"classifier\",\n",
    "            RandomForestClassifier(class_weight=\"balanced\", max_features=12, min_samples_leaf=3, max_depth=20, criterion=\"gini\", n_estimators=100, random_state=42),\n",
    "        ),\n",
    "    ]\n",
    ")\n",
    "\n",
    "pipeline.fit(X_train, y_train)\n",
    "\n",
    "random_forest_model = pipeline"
   ]
  },
  {
   "cell_type": "markdown",
   "metadata": {},
   "source": [
    "Let's see how our first model performs."
   ]
  },
  {
   "cell_type": "code",
   "execution_count": 4,
   "metadata": {},
   "outputs": [
    {
     "name": "stdout",
     "output_type": "stream",
     "text": [
      "              precision    recall  f1-score   support\n",
      "\n",
      "           0       0.91      0.82      0.86     74393\n",
      "           1       0.01      0.00      0.00      1566\n",
      "           2       0.37      0.58      0.45     11404\n",
      "           3       0.04      0.12      0.06       769\n",
      "\n",
      "    accuracy                           0.77     88132\n",
      "   macro avg       0.33      0.38      0.34     88132\n",
      "weighted avg       0.81      0.77      0.79     88132\n",
      "\n"
     ]
    },
    {
     "data": {
      "image/png": "[encoded data removed]",
      "text/plain": [
       "<Figure size 800x600 with 2 Axes>"
      ]
     },
     "metadata": {},
     "output_type": "display_data"
    }
   ],
   "source": [
    "y_pred = random_forest_model.predict(X_test)\n",
    "\n",
    "print(classification_report(y_test, y_pred))\n",
    "\n",
    "# Generate the confusion matrix\n",
    "cm = confusion_matrix(y_test, y_pred)\n",
    "\n",
    "import seaborn as sns\n",
    "from sklearn.preprocessing import LabelEncoder\n",
    "\n",
    "\n",
    "def encode_diabetes_column(diabetes_column):\n",
    "    \"\"\"\n",
    "    Encodes the 'diabetes' column of the dataset.\n",
    "\n",
    "    Parameters:\n",
    "    - diabetes_column: pandas.Series, the 'diabetes' column from the dataset.\n",
    "\n",
    "    Returns:\n",
    "    - y_encoded: The encoded labels for the 'diabetes' column.\n",
    "    - class_labels: The original string labels corresponding to the encoded labels.\n",
    "    \"\"\"\n",
    "    encoder = LabelEncoder()\n",
    "    y_encoded = encoder.fit_transform(diabetes_column)\n",
    "    class_labels = encoder.classes_  # Stores the original string labels\n",
    "    return class_labels\n",
    "\n",
    "\n",
    "class_labels = encode_diabetes_column(dataset[\"diabetes\"])\n",
    "\n",
    "# Visualize the confusion matrix\n",
    "plt.figure(figsize=(8, 6))\n",
    "sns.heatmap(\n",
    "    cm,\n",
    "    annot=True,\n",
    "    fmt=\"d\",\n",
    "    cmap=\"Blues\",\n",
    "    xticklabels=class_labels,\n",
    "    yticklabels=class_labels,\n",
    ")\n",
    "plt.xlabel(\"Predicted Labels\")\n",
    "plt.ylabel(\"True Labels\")\n",
    "plt.title(\"Confusion Matrix\")\n",
    "plt.show()"
   ]
  },
  {
   "cell_type": "markdown",
   "metadata": {},
   "source": [
    "Now we split the dataset into training and testing."
   ]
  },
  {
   "cell_type": "code",
   "execution_count": 5,
   "metadata": {},
   "outputs": [],
   "source": [
    "from sklearn.model_selection import train_test_split\n",
    "\n",
    "dataset = dataset_without_extended_diabetes_categories\n",
    "diabetes_X, diabetes_y = dataset.drop(columns=\"diabetes\"), dataset.diabetes\n",
    "\n",
    "diabetes_train_X, diabetes_test_X, diabetes_train_y, diabetes_test_y = train_test_split(\n",
    "    diabetes_X, diabetes_y, test_size=0.2, random_state=42\n",
    ")"
   ]
  },
  {
   "cell_type": "markdown",
   "metadata": {},
   "source": [
    "Create a column transformer to handle categorical data for certain models."
   ]
  },
  {
   "cell_type": "code",
   "execution_count": 7,
   "metadata": {},
   "outputs": [],
   "source": [
    "import pandas as pd\n",
    "from sklearn.compose import ColumnTransformer\n",
    "from sklearn.preprocessing import OneHotEncoder\n",
    "\n",
    "# Step 2: Create the ColumnTransformer\n",
    "# We use 'remainder='passthrough'' to keep the non-categorical columns unchanged\n",
    "column_transformer = ColumnTransformer(\n",
    "    transformers=[\n",
    "        (\n",
    "            \"OHE\",\n",
    "            OneHotEncoder(sparse_output=False, handle_unknown=\"ignore\"),\n",
    "            make_column_selector(dtype_include=\"category\"),\n",
    "        )\n",
    "    ],\n",
    "    remainder=\"passthrough\",\n",
    ")\n",
    "\n",
    "# Step 3: Fit and Transform the Data\n",
    "# The transformed data will be a NumPy array\n",
    "transformed_data = column_transformer.fit_transform(dataset)\n",
    "\n",
    "# Optional: Convert the transformed data back to a DataFrame\n",
    "# This step requires generating the new column names after transformation\n",
    "new_columns = column_transformer.get_feature_names_out()\n",
    "\n",
    "# Creating a new DataFrame with the transformed data and new column names\n",
    "one_hot_encoded_dataset = pd.DataFrame(transformed_data, columns=new_columns) # type: ignore"
   ]
  },
  {
   "cell_type": "markdown",
   "metadata": {},
   "source": [
    "Review our one hot encoded dataset."
   ]
  },
  {
   "cell_type": "code",
   "execution_count": 8,
   "metadata": {},
   "outputs": [
    {
     "name": "stdout",
     "output_type": "stream",
     "text": [
      "<class 'pandas.core.frame.DataFrame'>\n",
      "RangeIndex: 429360 entries, 0 to 429359\n",
      "Data columns (total 83 columns):\n",
      " #   Column                                                                                      Non-Null Count   Dtype  \n",
      "---  ------                                                                                      --------------   -----  \n",
      " 0   OHE__diabetes_Diabetes.NO                                                                   429360 non-null  float64\n",
      " 1   OHE__diabetes_Diabetes.YES                                                                  429360 non-null  float64\n",
      " 2   OHE__high_blood_pressure_HighBloodPressure.NO                                               429360 non-null  float64\n",
      " 3   OHE__high_blood_pressure_HighBloodPressure.YES                                              429360 non-null  float64\n",
      " 4   OHE__high_blood_pressure_nan                                                                429360 non-null  float64\n",
      " 5   OHE__high_cholesterol_BloodCholesterolHigh.NO                                               429360 non-null  float64\n",
      " 6   OHE__high_cholesterol_BloodCholesterolHigh.YES                                              429360 non-null  float64\n",
      " 7   OHE__high_cholesterol_nan                                                                   429360 non-null  float64\n",
      " 8   OHE__cholesterol_check_CholesterolChecked.CHECKED_IN_PAST_5_YEARS                           429360 non-null  float64\n",
      " 9   OHE__cholesterol_check_CholesterolChecked.NEVER_CHECKED                                     429360 non-null  float64\n",
      " 10  OHE__cholesterol_check_CholesterolChecked.NOT_CHECKED_IN_PAST_5_YEARS                       429360 non-null  float64\n",
      " 11  OHE__cholesterol_check_nan                                                                  429360 non-null  float64\n",
      " 12  OHE__smoked_100_cigarettes_SmokedAtLeast100Cigarettes.NO                                    429360 non-null  float64\n",
      " 13  OHE__smoked_100_cigarettes_SmokedAtLeast100Cigarettes.YES                                   429360 non-null  float64\n",
      " 14  OHE__smoked_100_cigarettes_nan                                                              429360 non-null  float64\n",
      " 15  OHE__stroke_EverDiagnosedWithStroke.NO                                                      429360 non-null  float64\n",
      " 16  OHE__stroke_EverDiagnosedWithStroke.YES                                                     429360 non-null  float64\n",
      " 17  OHE__stroke_nan                                                                             429360 non-null  float64\n",
      " 18  OHE__coronary_disease_EverHadCHDorMI.DID_NOT_REPORT_HAVING_MI_OR_CHD                        429360 non-null  float64\n",
      " 19  OHE__coronary_disease_EverHadCHDorMI.REPORTED_HAVING_MI_OR_CHD                              429360 non-null  float64\n",
      " 20  OHE__coronary_disease_nan                                                                   429360 non-null  float64\n",
      " 21  OHE__exercise_LeisureTimePhysicalActivity.HAD_PHYSICAL_ACTIVITY_OR_EXERCISE                 429360 non-null  float64\n",
      " 22  OHE__exercise_LeisureTimePhysicalActivity.NO_PHYSICAL_ACTIVITY_OR_EXERCISE_IN_LAST_30_DAYS  429360 non-null  float64\n",
      " 23  OHE__exercise_nan                                                                           429360 non-null  float64\n",
      " 24  OHE__consumes_fruit_ConsumeFruitFrequency.LESS_THAN_ONE_TIME_PER_DAY                        429360 non-null  float64\n",
      " 25  OHE__consumes_fruit_ConsumeFruitFrequency.ONE_OR_MORE_TIMES_PER_DAY                         429360 non-null  float64\n",
      " 26  OHE__consumes_fruit_nan                                                                     429360 non-null  float64\n",
      " 27  OHE__consumes_vegetable_ConsumeVegetablesFrequency.LESS_THAN_ONE_TIME_PER_DAY               429360 non-null  float64\n",
      " 28  OHE__consumes_vegetable_ConsumeVegetablesFrequency.ONE_OR_MORE_TIMES_PER_DAY                429360 non-null  float64\n",
      " 29  OHE__consumes_vegetable_nan                                                                 429360 non-null  float64\n",
      " 30  OHE__heavy_alcohol_drinker_HeavyAlcoholConsumption.NO                                       429360 non-null  float64\n",
      " 31  OHE__heavy_alcohol_drinker_HeavyAlcoholConsumption.YES                                      429360 non-null  float64\n",
      " 32  OHE__heavy_alcohol_drinker_nan                                                              429360 non-null  float64\n",
      " 33  OHE__insurance_HealthCareCoverage.NO                                                        429360 non-null  float64\n",
      " 34  OHE__insurance_HealthCareCoverage.YES                                                       429360 non-null  float64\n",
      " 35  OHE__insurance_nan                                                                          429360 non-null  float64\n",
      " 36  OHE__no_doctor_money_CouldNotSeeDoctorBecauseOfCost.NO                                      429360 non-null  float64\n",
      " 37  OHE__no_doctor_money_CouldNotSeeDoctorBecauseOfCost.YES                                     429360 non-null  float64\n",
      " 38  OHE__no_doctor_money_nan                                                                    429360 non-null  float64\n",
      " 39  OHE__health_GeneralHealth.EXCELLENT                                                         429360 non-null  float64\n",
      " 40  OHE__health_GeneralHealth.FAIR                                                              429360 non-null  float64\n",
      " 41  OHE__health_GeneralHealth.GOOD                                                              429360 non-null  float64\n",
      " 42  OHE__health_GeneralHealth.POOR                                                              429360 non-null  float64\n",
      " 43  OHE__health_GeneralHealth.VERY_GOOD                                                         429360 non-null  float64\n",
      " 44  OHE__health_nan                                                                             429360 non-null  float64\n",
      " 45  OHE__climb_difficulty_DifficultyWalkingOrClimbingStairs.NO                                  429360 non-null  float64\n",
      " 46  OHE__climb_difficulty_DifficultyWalkingOrClimbingStairs.YES                                 429360 non-null  float64\n",
      " 47  OHE__climb_difficulty_nan                                                                   429360 non-null  float64\n",
      " 48  OHE__sex_RespondentSex.FEMALE                                                               429360 non-null  float64\n",
      " 49  OHE__sex_RespondentSex.MALE                                                                 429360 non-null  float64\n",
      " 50  OHE__age_category_AgeFiveYearCategories.AGE_18_TO_24                                        429360 non-null  float64\n",
      " 51  OHE__age_category_AgeFiveYearCategories.AGE_25_TO_29                                        429360 non-null  float64\n",
      " 52  OHE__age_category_AgeFiveYearCategories.AGE_30_TO_34                                        429360 non-null  float64\n",
      " 53  OHE__age_category_AgeFiveYearCategories.AGE_35_TO_39                                        429360 non-null  float64\n",
      " 54  OHE__age_category_AgeFiveYearCategories.AGE_40_TO_44                                        429360 non-null  float64\n",
      " 55  OHE__age_category_AgeFiveYearCategories.AGE_45_TO_49                                        429360 non-null  float64\n",
      " 56  OHE__age_category_AgeFiveYearCategories.AGE_50_TO_54                                        429360 non-null  float64\n",
      " 57  OHE__age_category_AgeFiveYearCategories.AGE_55_TO_59                                        429360 non-null  float64\n",
      " 58  OHE__age_category_AgeFiveYearCategories.AGE_60_TO_64                                        429360 non-null  float64\n",
      " 59  OHE__age_category_AgeFiveYearCategories.AGE_65_TO_69                                        429360 non-null  float64\n",
      " 60  OHE__age_category_AgeFiveYearCategories.AGE_70_TO_74                                        429360 non-null  float64\n",
      " 61  OHE__age_category_AgeFiveYearCategories.AGE_75_TO_79                                        429360 non-null  float64\n",
      " 62  OHE__age_category_AgeFiveYearCategories.AGE_80_OR_OLDER                                     429360 non-null  float64\n",
      " 63  OHE__age_category_nan                                                                       429360 non-null  float64\n",
      " 64  OHE__education_level_EducationLevel.COLLEGE_1_TO_3_YEARS                                    429360 non-null  float64\n",
      " 65  OHE__education_level_EducationLevel.COLLEGE_4_YEARS_OR_MORE                                 429360 non-null  float64\n",
      " 66  OHE__education_level_EducationLevel.GRADES_1_TO_8                                           429360 non-null  float64\n",
      " 67  OHE__education_level_EducationLevel.GRADES_9_TO_11                                          429360 non-null  float64\n",
      " 68  OHE__education_level_EducationLevel.GRADE_12_OR_GED                                         429360 non-null  float64\n",
      " 69  OHE__education_level_EducationLevel.NEVER_ATTENDED_OR_ONLY_KINDERGARTEN                     429360 non-null  float64\n",
      " 70  OHE__education_level_nan                                                                    429360 non-null  float64\n",
      " 71  OHE__income_IncomeLevel.GREATER_THAN_OR_EQUAL_75000                                         429360 non-null  float64\n",
      " 72  OHE__income_IncomeLevel.LESS_THAN_10000                                                     429360 non-null  float64\n",
      " 73  OHE__income_IncomeLevel.LESS_THAN_15000                                                     429360 non-null  float64\n",
      " 74  OHE__income_IncomeLevel.LESS_THAN_20000                                                     429360 non-null  float64\n",
      " 75  OHE__income_IncomeLevel.LESS_THAN_25000                                                     429360 non-null  float64\n",
      " 76  OHE__income_IncomeLevel.LESS_THAN_35000                                                     429360 non-null  float64\n",
      " 77  OHE__income_IncomeLevel.LESS_THAN_50000                                                     429360 non-null  float64\n",
      " 78  OHE__income_IncomeLevel.LESS_THAN_75000                                                     429360 non-null  float64\n",
      " 79  OHE__income_nan                                                                             429360 non-null  float64\n",
      " 80  remainder__bmi                                                                              394205 non-null  float64\n",
      " 81  remainder__mental_health                                                                    429360 non-null  float64\n",
      " 82  remainder__physical_health                                                                  429359 non-null  float64\n",
      "dtypes: float64(83)\n",
      "memory usage: 271.9 MB\n"
     ]
    }
   ],
   "source": [
    "one_hot_encoded_dataset.info()"
   ]
  },
  {
   "cell_type": "markdown",
   "metadata": {},
   "source": [
    "Let's train our second model, a KNN classifier."
   ]
  },
  {
   "cell_type": "code",
   "execution_count": null,
   "metadata": {},
   "outputs": [],
   "source": []
  }
 ],
 "metadata": {
  "kernelspec": {
   "display_name": "Python 3",
   "language": "python",
   "name": "python3"
  },
  "language_info": {
   "codemirror_mode": {
    "name": "ipython",
    "version": 3
   },
   "file_extension": ".py",
   "mimetype": "text/x-python",
   "name": "python",
   "nbconvert_exporter": "python",
   "pygments_lexer": "ipython3",
   "version": "3.11.8"
  }
 },
 "nbformat": 4,
 "nbformat_minor": 4
}
