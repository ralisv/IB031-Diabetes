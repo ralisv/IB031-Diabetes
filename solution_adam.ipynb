{
 "cells": [
  {
   "cell_type": "markdown",
   "metadata": {},
   "source": [
    "# Diabetes Classification\n",
    "\n",
    "## About dataset\n",
    "- The Behavioral Risk Factor Surveillance System (BRFSS) is a health-related telephone survey that collects data from U.S. residents on their health-related risk behaviors, chronic health conditions, and use of preventive services\n",
    "- The dataset has been established in 1984 with 15 states, it now collects data from all 50 states, D.C., and 3 U.S. territories\n",
    "- Over 400,000 adult interviews are completed each year, making it the largest continuous health survey system in the world\n",
    "- Factors assessed include tobacco use, healthcare coverage, HIV/AIDS knowledge/prevention, physical activity, and fruit/vegetable consumption\n",
    "- A record in the data corresponds to a single respondent (each from a single household)\n",
    "- The description of columns can be found in the linked PDF file"
   ]
  },
  {
   "cell_type": "markdown",
   "metadata": {},
   "source": [
    "#### Features description\n",
    "| Feature               | Description                                                                  |\n",
    "|-----------------------|------------------------------------------------------------------------------|\n",
    "| diabetes              | Subject was told they have diabetes                                          |\n",
    "| high_blood_pressure   | Subject has high blood pressure                                              |\n",
    "| high_cholesterol      | Subject has high cholesterol                                                 |\n",
    "| cholesterol_check     | Subject had cholesterol check within the last five years                     |\n",
    "| bmi                   | BMI of the subject                                                           |\n",
    "| smoked_100_cigarettes | Subject has smoked at least 100 cigarettes during their life                 |\n",
    "| stroke                | Subject experienced stroke during their life                                 |\n",
    "| coronary_disease      | Subject has/had coronary heart disease or myocardial infarction              |\n",
    "| exercise              | Subject does regular exercise or physical activity                           |\n",
    "| consumes_fruit        | Subject consumes fruits at least once a day                                  |\n",
    "| consumes_vegetables   | Subject consumes vegetables at least once a day                              |\n",
    "| insurance             | Subject has some kind of health plan (insurance, prepaid plans, ...)         |\n",
    "| no_doctor_money       | Subject was unable to visit doctor in the past 12 months because of cost     |\n",
    "| health                | How good is the health of the subject (self rated)                           |\n",
    "| mental_health         | Number of days in the past month when subject's mental health was not good   |\n",
    "| physical_health       | Number of days in the past month when subject's physical health was not good |\n",
    "| climb_difficulty      | Subject has difficulties climbing stairs                                     |\n",
    "| sex                   | Sex of the subject                                                           |\n",
    "| age_category          | Age category of the subject                                                  |\n",
    "| educatation_level     | Highest level of education achieved by the subject                           |\n",
    "| income                | Income of subject's household                                                |\n",
    "| heavy_drinker         | Subject is a heavy drinker                                                   |"
   ]
  },
  {
   "cell_type": "code",
   "execution_count": 32,
   "metadata": {
    "scrolled": true
   },
   "outputs": [],
   "source": [
    "from pathlib import Path\n",
    "\n",
    "import pandas as pd\n",
    "\n",
    "\n",
    "def load_dataset(part_dir):\n",
    "    dataset_parts_df = [pd.read_csv(Path(part_dir) / f\"part{part_num}.csv\") for part_num in range(1, 6)]\n",
    "    return pd.concat(dataset_parts_df)\n",
    "\n",
    "\n",
    "dataset = load_dataset(\"data\")"
   ]
  },
  {
   "cell_type": "code",
   "execution_count": 33,
   "metadata": {
    "scrolled": true
   },
   "outputs": [],
   "source": [
    "from categories import *\n",
    "\n",
    "\n",
    "# Create a dictionary mapping column names to their corresponding Enum classes\n",
    "rename_map = {\n",
    "    \"DIABETE3\": \"diabetes\",\n",
    "    \"_RFHYPE5\": \"high_blood_pressure\",\n",
    "    \"TOLDHI2\": \"high_cholesterol\",\n",
    "    \"_CHOLCHK\": \"cholesterol_check\",\n",
    "    \"_BMI5\": \"bmi\",\n",
    "    \"SMOKE100\": \"smoked_100_cigarettes\",\n",
    "    \"CVDSTRK3\": \"stroke\",\n",
    "    \"_MICHD\": \"coronary_disease\",\n",
    "    \"_TOTINDA\": \"exercise\",\n",
    "    \"_FRTLT1\": \"consumes_fruit\",\n",
    "    \"_VEGLT1\": \"consumes_vegetable\",\n",
    "    \"HLTHPLN1\": \"insurance\",\n",
    "    \"MEDCOST\": \"no_doctor_money\",\n",
    "    \"GENHLTH\": \"health\",\n",
    "    \"MENTHLTH\": \"mental_health\",\n",
    "    \"PHYSHLTH\": \"physical_health\",\n",
    "    \"DIFFWALK\": \"climb_difficulty\",\n",
    "    \"SEX\": \"sex\",\n",
    "    \"_AGEG5YR\": \"age_category\",\n",
    "    \"EDUCA\": \"education_level\",\n",
    "    \"INCOME2\": \"income\",\n",
    "    \"_RFDRHV5\": \"heavy_drinker\"\n",
    "}\n",
    "\n",
    "dataset.rename(columns=rename_map, inplace=True)"
   ]
  },
  {
   "cell_type": "code",
   "execution_count": 34,
   "metadata": {},
   "outputs": [],
   "source": [
    "from categories import *\n",
    "\n",
    "# Create a dictionary mapping column names to their corresponding Enum classes\n",
    "enum_mapping = {\n",
    "    \"diabetes\": Diabetes,\n",
    "    \"high_blood_pressure\": HighBloodPressure,\n",
    "    \"high_cholesterol\": BloodCholesterolHigh,\n",
    "    \"cholesterol_check\": CholesterolChecked,\n",
    "    \"smoked_100_cigarettes\": SmokedAtLeast100Cigarettes,\n",
    "    \"stroke\": EverDiagnosedWithStroke,\n",
    "    \"coronary_disease\": EverHadCHDorMI,\n",
    "    \"exercise\": LeisureTimePhysicalActivity,\n",
    "    \"consumes_fruit\": ConsumeFruitFrequency,\n",
    "    \"consumes_vegetable\": ConsumeVegetablesFrequency,\n",
    "    \"insurance\": HealthCareCoverage,\n",
    "    \"no_doctor_money\": CouldNotSeeDoctorBecauseOfCost,\n",
    "    \"health\": GeneralHealth,\n",
    "    \"climb_difficulty\": DifficultyWalkingOrClimbingStairs,\n",
    "    \"sex\": RespondentSex,\n",
    "    \"age_category\": AgeFiveYearCategories,\n",
    "    \"education_level\": EducationLevel,\n",
    "    \"income\": IncomeLevel,\n",
    "}\n",
    "\n",
    "def map_to_cat_values(val):\n",
    "    convert_to_nan = {\"REFUSED\", \"Blank\", \"DONT_KNOW_OR_NOT_SURE\", \"DONT_KNOW_OR_NOT_SURE_OR_REFUSED_OR_MISSING\",\n",
    "                      \"DONT_KNOW_OR_REFUSED_OR_MISSING\", \"BLANK\", \"DONT_KNOW_REFUSED_OR_MISSING\"}\n",
    "    if pd.isna(val) or enum_class(val).name in convert_to_nan:\n",
    "        return pd.NA\n",
    "    return str(enum_class(val))\n",
    "\n",
    "\n",
    "# Replace numerical values with string representations from the corresponding Enum classes\n",
    "for column, enum_class in enum_mapping.items():\n",
    "    dataset[column] = dataset[column].apply(map_to_cat_values)\n",
    "\n",
    "\n",
    "# Convert columns which make use of Enum classes to category types\n",
    "object_cols = dataset.select_dtypes(include=[\"object\"]).columns\n",
    "dataset[object_cols] = dataset[object_cols].astype(\"category\")"
   ]
  },
  {
   "cell_type": "code",
   "execution_count": 38,
   "metadata": {},
   "outputs": [
    {
     "data": {
      "text/plain": [
       "count                         498375\n",
       "unique                             2\n",
       "top       EverDiagnosedWithStroke.NO\n",
       "freq                          477395\n",
       "Name: stroke, dtype: object"
      ]
     },
     "execution_count": 38,
     "metadata": {},
     "output_type": "execute_result"
    }
   ],
   "source": [
    "# 'Unnamed: 0' is a duplicate column of ID\n",
    "dataset.drop(\"Unnamed: 0\", axis=1, inplace=True)"
   ]
  }
 ],
 "metadata": {
  "kernelspec": {
   "display_name": "venv",
   "language": "python",
   "name": "venv"
  },
  "language_info": {
   "codemirror_mode": {
    "name": "ipython",
    "version": 3
   },
   "file_extension": ".py",
   "mimetype": "text/x-python",
   "name": "python",
   "nbconvert_exporter": "python",
   "pygments_lexer": "ipython3",
   "version": "3.11.7"
  }
 },
 "nbformat": 4,
 "nbformat_minor": 4
}
